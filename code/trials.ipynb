{
 "cells": [
  {
   "cell_type": "markdown",
   "metadata": {},
   "source": [
    "# <center>载入数据</center>"
   ]
  },
  {
   "cell_type": "code",
   "execution_count": 58,
   "metadata": {},
   "outputs": [],
   "source": [
    "import pandas as pd\r\n",
    "import numpy as np\r\n",
    "\r\n",
    "data = pd.read_csv(\"f:/机器学习/kaggle/train.csv\")\r\n",
    "#print(data['target'].replace('Class_8',8))\r\n",
    "data['target'].replace('Class_9',int(9),inplace=True)\r\n",
    "data['target'].replace('Class_8',int(8),inplace=True)\r\n",
    "data['target'].replace('Class_7',int(7),inplace=True)\r\n",
    "data['target'].replace('Class_6',int(6),inplace=True)\r\n",
    "data['target'].replace('Class_5',int(5),inplace=True)\r\n",
    "data['target'].replace('Class_4',int(4),inplace=True)\r\n",
    "data['target'].replace('Class_3',int(3),inplace=True)\r\n",
    "data['target'].replace('Class_2',int(2),inplace=True)\r\n",
    "data['target'].replace('Class_1',int(1),inplace=True)\r\n",
    "#data['target'].to_numeric()\r\n",
    "data['target'].astype(int)\r\n",
    "data_0 = pd.read_csv(\"f:/机器学习/kaggle/test.csv\")\r\n"
   ]
  },
  {
   "cell_type": "markdown",
   "metadata": {},
   "source": [
    "# <center>数据预处理</center>"
   ]
  },
  {
   "cell_type": "markdown",
   "metadata": {},
   "source": [
    "## 无量纲化 - 标准化StandardScaler"
   ]
  },
  {
   "cell_type": "code",
   "execution_count": 20,
   "metadata": {},
   "outputs": [],
   "source": [
    "#无量纲化 - 标准化\r\n",
    "from sklearn.preprocessing import MinMaxScaler\r\n",
    "#print(StandardScaler().fit_transform(data.loc[:,'feature_0':'feature_74']))\r\n",
    "data.loc[:,'feature_0':'feature_74'] = MinMaxScaler().fit_transform(data.loc[:,'feature_0':'feature_74'])\r\n"
   ]
  },
  {
   "cell_type": "code",
   "execution_count": 46,
   "metadata": {},
   "outputs": [],
   "source": [
    "from sklearn.preprocessing import StandardScaler\r\n",
    "#print(StandardScaler().fit_transform(data.loc[:,'feature_0':'feature_74']))\r\n",
    "data.loc[:,'feature_0':'feature_74'] = StandardScaler().fit_transform(data.loc[:,'feature_0':'feature_74'])"
   ]
  },
  {
   "cell_type": "markdown",
   "metadata": {},
   "source": [
    "# <center>降维处理</center>"
   ]
  },
  {
   "cell_type": "code",
   "execution_count": 21,
   "metadata": {},
   "outputs": [],
   "source": [
    "#from sklearn.decomposition import PCA\r\n",
    "#pca = PCA(n_components=27)\r\n"
   ]
  },
  {
   "cell_type": "code",
   "execution_count": 56,
   "metadata": {},
   "outputs": [
    {
     "name": "stdout",
     "output_type": "stream",
     "text": [
      "[[ 1.15270822 -2.19585473  0.6094214  ...  0.16553743  0.99157792\n",
      "  -0.44286796]\n",
      " [-0.89823504 -0.85062366 -0.11871815 ...  0.15539811  0.17332528\n",
      "   0.27200049]\n",
      " [-0.46818562 -0.05420531 -0.51169966 ... -0.03833684  0.47088714\n",
      "   0.09435096]\n",
      " ...\n",
      " [ 1.07951603  0.27845118  2.82748996 ...  2.19616487  0.03284492\n",
      "   0.40961607]\n",
      " [-0.74005371 -0.4865265  -0.16367293 ... -0.6375635  -0.51860837\n",
      "   0.04306263]\n",
      " [ 0.78447383 -0.03474731 -0.38198373 ... -2.33569752 -3.58955449\n",
      "   2.23480402]]\n",
      "(200000, 7)\n"
     ]
    }
   ],
   "source": [
    "from sklearn.discriminant_analysis import LinearDiscriminantAnalysis\r\n",
    "lda = LinearDiscriminantAnalysis(n_components=7)\r\n",
    "X_train = data.loc[:,'id':'feature_74']\r\n",
    "y_train = data['target']\r\n",
    "lda.fit(X_train,y_train)\r\n",
    "X_train = lda.transform(X_train)\r\n",
    "X_test = data_0.loc[:,'id':'feature_74']\r\n",
    "#lda(n_components=7).fit_transform(X_train,y_train)\r\n",
    "print(X_train)\r\n",
    "print(X_train.shape)"
   ]
  },
  {
   "cell_type": "code",
   "execution_count": 44,
   "metadata": {},
   "outputs": [
    {
     "name": "stdout",
     "output_type": "stream",
     "text": [
      "(200000, 27)\n"
     ]
    }
   ],
   "source": [
    "X_train = data.loc[:,'id':'feature_74']\r\n",
    "y_train = data['target']\r\n",
    "#X_train = np.array(pca.fit_transform(X_train))\r\n",
    "X_test = data_0.loc[:,'id':'feature_74']\r\n",
    "X_train = pca.fit_transform(X_train.drop(columns='id'))\r\n",
    "#print(X_train)\r\n",
    "#y_train = np.array(pd.get_dummies(y_train))\r\n",
    "#print(X_train)\r\n",
    "print(X_train.shape)"
   ]
  },
  {
   "cell_type": "markdown",
   "metadata": {},
   "source": [
    "# <center>第一个模型：DF21</center>"
   ]
  },
  {
   "cell_type": "code",
   "execution_count": 57,
   "metadata": {},
   "outputs": [
    {
     "name": "stdout",
     "output_type": "stream",
     "text": [
      "[2021-06-30 17:56:04.721] Start to fit the model:\n",
      "[2021-06-30 17:56:04.722] Fitting cascade layer = 0 \n",
      "[2021-06-30 17:56:49.673] layer = 0  | Val Acc = 34.725 % | Elapsed = 44.951 s\n",
      "[2021-06-30 17:56:52.081] Fitting cascade layer = 1 \n"
     ]
    },
    {
     "ename": "KeyboardInterrupt",
     "evalue": "",
     "output_type": "error",
     "traceback": [
      "\u001b[1;31m---------------------------------------------------------------------------\u001b[0m",
      "\u001b[1;31mKeyboardInterrupt\u001b[0m                         Traceback (most recent call last)",
      "\u001b[1;32m<ipython-input-57-2b873f95efa9>\u001b[0m in \u001b[0;36m<module>\u001b[1;34m\u001b[0m\n\u001b[0;32m      2\u001b[0m \u001b[1;32mimport\u001b[0m \u001b[0mxgboost\u001b[0m\u001b[1;33m\u001b[0m\u001b[1;33m\u001b[0m\u001b[0m\n\u001b[0;32m      3\u001b[0m \u001b[0mmodel\u001b[0m \u001b[1;33m=\u001b[0m \u001b[0mCascadeForestClassifier\u001b[0m\u001b[1;33m(\u001b[0m\u001b[0mn_jobs\u001b[0m\u001b[1;33m=\u001b[0m\u001b[1;33m-\u001b[0m\u001b[1;36m1\u001b[0m\u001b[1;33m,\u001b[0m\u001b[0mn_estimators\u001b[0m\u001b[1;33m=\u001b[0m\u001b[1;36m3\u001b[0m\u001b[1;33m,\u001b[0m\u001b[0mn_trees\u001b[0m\u001b[1;33m=\u001b[0m\u001b[1;36m200\u001b[0m\u001b[1;33m,\u001b[0m\u001b[0mmax_depth\u001b[0m\u001b[1;33m=\u001b[0m\u001b[1;36m12\u001b[0m\u001b[1;33m,\u001b[0m\u001b[0mmin_samples_leaf\u001b[0m\u001b[1;33m=\u001b[0m\u001b[1;36m5\u001b[0m\u001b[1;33m)\u001b[0m\u001b[1;33m\u001b[0m\u001b[1;33m\u001b[0m\u001b[0m\n\u001b[1;32m----> 4\u001b[1;33m \u001b[0mmodel\u001b[0m\u001b[1;33m.\u001b[0m\u001b[0mfit\u001b[0m\u001b[1;33m(\u001b[0m\u001b[0mX_train\u001b[0m\u001b[1;33m,\u001b[0m \u001b[0my_train\u001b[0m\u001b[1;33m.\u001b[0m\u001b[0mvalues\u001b[0m\u001b[1;33m)\u001b[0m\u001b[1;33m\u001b[0m\u001b[1;33m\u001b[0m\u001b[0m\n\u001b[0m\u001b[0;32m      5\u001b[0m \u001b[1;31m#.drop(columns='id').values\u001b[0m\u001b[1;33m\u001b[0m\u001b[1;33m\u001b[0m\u001b[1;33m\u001b[0m\u001b[0m\n",
      "\u001b[1;32m~\\AppData\\Local\\Programs\\Python\\Python38\\lib\\site-packages\\deepforest\\cascade.py\u001b[0m in \u001b[0;36mfit\u001b[1;34m(self, X, y, sample_weight)\u001b[0m\n\u001b[0;32m   1395\u001b[0m         \u001b[0my\u001b[0m \u001b[1;33m=\u001b[0m \u001b[0mself\u001b[0m\u001b[1;33m.\u001b[0m\u001b[0m_encode_class_labels\u001b[0m\u001b[1;33m(\u001b[0m\u001b[0my\u001b[0m\u001b[1;33m)\u001b[0m\u001b[1;33m\u001b[0m\u001b[1;33m\u001b[0m\u001b[0m\n\u001b[0;32m   1396\u001b[0m \u001b[1;33m\u001b[0m\u001b[0m\n\u001b[1;32m-> 1397\u001b[1;33m         \u001b[0msuper\u001b[0m\u001b[1;33m(\u001b[0m\u001b[1;33m)\u001b[0m\u001b[1;33m.\u001b[0m\u001b[0mfit\u001b[0m\u001b[1;33m(\u001b[0m\u001b[0mX\u001b[0m\u001b[1;33m,\u001b[0m \u001b[0my\u001b[0m\u001b[1;33m,\u001b[0m \u001b[0msample_weight\u001b[0m\u001b[1;33m)\u001b[0m\u001b[1;33m\u001b[0m\u001b[1;33m\u001b[0m\u001b[0m\n\u001b[0m\u001b[0;32m   1398\u001b[0m \u001b[1;33m\u001b[0m\u001b[0m\n\u001b[0;32m   1399\u001b[0m     \u001b[1;32mdef\u001b[0m \u001b[0mpredict_proba\u001b[0m\u001b[1;33m(\u001b[0m\u001b[0mself\u001b[0m\u001b[1;33m,\u001b[0m \u001b[0mX\u001b[0m\u001b[1;33m)\u001b[0m\u001b[1;33m:\u001b[0m\u001b[1;33m\u001b[0m\u001b[1;33m\u001b[0m\u001b[0m\n",
      "\u001b[1;32m~\\AppData\\Local\\Programs\\Python\\Python38\\lib\\site-packages\\deepforest\\cascade.py\u001b[0m in \u001b[0;36mfit\u001b[1;34m(self, X, y, sample_weight)\u001b[0m\n\u001b[0;32m    866\u001b[0m \u001b[1;33m\u001b[0m\u001b[0m\n\u001b[0;32m    867\u001b[0m             \u001b[0mtic\u001b[0m \u001b[1;33m=\u001b[0m \u001b[0mtime\u001b[0m\u001b[1;33m.\u001b[0m\u001b[0mtime\u001b[0m\u001b[1;33m(\u001b[0m\u001b[1;33m)\u001b[0m\u001b[1;33m\u001b[0m\u001b[1;33m\u001b[0m\u001b[0m\n\u001b[1;32m--> 868\u001b[1;33m             X_aug_train_ = layer_.fit_transform(\n\u001b[0m\u001b[0;32m    869\u001b[0m                 \u001b[0mX_middle_train_\u001b[0m\u001b[1;33m,\u001b[0m \u001b[0my\u001b[0m\u001b[1;33m,\u001b[0m \u001b[0msample_weight\u001b[0m\u001b[1;33m=\u001b[0m\u001b[0msample_weight\u001b[0m\u001b[1;33m\u001b[0m\u001b[1;33m\u001b[0m\u001b[0m\n\u001b[0;32m    870\u001b[0m             )\n",
      "\u001b[1;32m~\\AppData\\Local\\Programs\\Python\\Python38\\lib\\site-packages\\deepforest\\_layer.py\u001b[0m in \u001b[0;36mfit_transform\u001b[1;34m(self, X, y, sample_weight)\u001b[0m\n\u001b[0;32m    204\u001b[0m         \u001b[1;31m# A random forest and an extremely random forest will be fitted\u001b[0m\u001b[1;33m\u001b[0m\u001b[1;33m\u001b[0m\u001b[1;33m\u001b[0m\u001b[0m\n\u001b[0;32m    205\u001b[0m         \u001b[1;32mfor\u001b[0m \u001b[0mestimator_idx\u001b[0m \u001b[1;32min\u001b[0m \u001b[0mrange\u001b[0m\u001b[1;33m(\u001b[0m\u001b[0mself\u001b[0m\u001b[1;33m.\u001b[0m\u001b[0mn_estimators\u001b[0m \u001b[1;33m//\u001b[0m \u001b[1;36m2\u001b[0m\u001b[1;33m)\u001b[0m\u001b[1;33m:\u001b[0m\u001b[1;33m\u001b[0m\u001b[1;33m\u001b[0m\u001b[0m\n\u001b[1;32m--> 206\u001b[1;33m             X_aug_, _estimator = _build_estimator(\n\u001b[0m\u001b[0;32m    207\u001b[0m                 \u001b[0mX\u001b[0m\u001b[1;33m,\u001b[0m\u001b[1;33m\u001b[0m\u001b[1;33m\u001b[0m\u001b[0m\n\u001b[0;32m    208\u001b[0m                 \u001b[0my\u001b[0m\u001b[1;33m,\u001b[0m\u001b[1;33m\u001b[0m\u001b[1;33m\u001b[0m\u001b[0m\n",
      "\u001b[1;32m~\\AppData\\Local\\Programs\\Python\\Python38\\lib\\site-packages\\deepforest\\_layer.py\u001b[0m in \u001b[0;36m_build_estimator\u001b[1;34m(X, y, layer_idx, estimator_idx, estimator_name, estimator, oob_decision_function, partial_mode, buffer, verbose, sample_weight)\u001b[0m\n\u001b[0;32m     38\u001b[0m         \u001b[0mprint\u001b[0m\u001b[1;33m(\u001b[0m\u001b[0mmsg\u001b[0m\u001b[1;33m.\u001b[0m\u001b[0mformat\u001b[0m\u001b[1;33m(\u001b[0m\u001b[0m_utils\u001b[0m\u001b[1;33m.\u001b[0m\u001b[0mctime\u001b[0m\u001b[1;33m(\u001b[0m\u001b[1;33m)\u001b[0m\u001b[1;33m,\u001b[0m \u001b[0mkey\u001b[0m\u001b[1;33m,\u001b[0m \u001b[0mlayer_idx\u001b[0m\u001b[1;33m)\u001b[0m\u001b[1;33m)\u001b[0m\u001b[1;33m\u001b[0m\u001b[1;33m\u001b[0m\u001b[0m\n\u001b[0;32m     39\u001b[0m \u001b[1;33m\u001b[0m\u001b[0m\n\u001b[1;32m---> 40\u001b[1;33m     \u001b[0mX_aug_train\u001b[0m \u001b[1;33m=\u001b[0m \u001b[0mestimator\u001b[0m\u001b[1;33m.\u001b[0m\u001b[0mfit_transform\u001b[0m\u001b[1;33m(\u001b[0m\u001b[0mX\u001b[0m\u001b[1;33m,\u001b[0m \u001b[0my\u001b[0m\u001b[1;33m,\u001b[0m \u001b[0msample_weight\u001b[0m\u001b[1;33m)\u001b[0m\u001b[1;33m\u001b[0m\u001b[1;33m\u001b[0m\u001b[0m\n\u001b[0m\u001b[0;32m     41\u001b[0m     \u001b[0moob_decision_function\u001b[0m \u001b[1;33m+=\u001b[0m \u001b[0mestimator\u001b[0m\u001b[1;33m.\u001b[0m\u001b[0moob_decision_function_\u001b[0m\u001b[1;33m\u001b[0m\u001b[1;33m\u001b[0m\u001b[0m\n\u001b[0;32m     42\u001b[0m \u001b[1;33m\u001b[0m\u001b[0m\n",
      "\u001b[1;32m~\\AppData\\Local\\Programs\\Python\\Python38\\lib\\site-packages\\deepforest\\_estimator.py\u001b[0m in \u001b[0;36mfit_transform\u001b[1;34m(self, X, y, sample_weight)\u001b[0m\n\u001b[0;32m    197\u001b[0m \u001b[1;33m\u001b[0m\u001b[0m\n\u001b[0;32m    198\u001b[0m     \u001b[1;32mdef\u001b[0m \u001b[0mfit_transform\u001b[0m\u001b[1;33m(\u001b[0m\u001b[0mself\u001b[0m\u001b[1;33m,\u001b[0m \u001b[0mX\u001b[0m\u001b[1;33m,\u001b[0m \u001b[0my\u001b[0m\u001b[1;33m,\u001b[0m \u001b[0msample_weight\u001b[0m\u001b[1;33m=\u001b[0m\u001b[1;32mNone\u001b[0m\u001b[1;33m)\u001b[0m\u001b[1;33m:\u001b[0m\u001b[1;33m\u001b[0m\u001b[1;33m\u001b[0m\u001b[0m\n\u001b[1;32m--> 199\u001b[1;33m         \u001b[0mself\u001b[0m\u001b[1;33m.\u001b[0m\u001b[0mestimator_\u001b[0m\u001b[1;33m.\u001b[0m\u001b[0mfit\u001b[0m\u001b[1;33m(\u001b[0m\u001b[0mX\u001b[0m\u001b[1;33m,\u001b[0m \u001b[0my\u001b[0m\u001b[1;33m,\u001b[0m \u001b[0msample_weight\u001b[0m\u001b[1;33m)\u001b[0m\u001b[1;33m\u001b[0m\u001b[1;33m\u001b[0m\u001b[0m\n\u001b[0m\u001b[0;32m    200\u001b[0m         \u001b[1;32mreturn\u001b[0m \u001b[0mself\u001b[0m\u001b[1;33m.\u001b[0m\u001b[0moob_decision_function_\u001b[0m\u001b[1;33m\u001b[0m\u001b[1;33m\u001b[0m\u001b[0m\n\u001b[0;32m    201\u001b[0m \u001b[1;33m\u001b[0m\u001b[0m\n",
      "\u001b[1;32m~\\AppData\\Local\\Programs\\Python\\Python38\\lib\\site-packages\\deepforest\\forest.py\u001b[0m in \u001b[0;36mfit\u001b[1;34m(self, X, y, sample_weight)\u001b[0m\n\u001b[0;32m    461\u001b[0m \u001b[1;33m\u001b[0m\u001b[0m\n\u001b[0;32m    462\u001b[0m         \u001b[0mlock\u001b[0m \u001b[1;33m=\u001b[0m \u001b[0mthreading\u001b[0m\u001b[1;33m.\u001b[0m\u001b[0mLock\u001b[0m\u001b[1;33m(\u001b[0m\u001b[1;33m)\u001b[0m\u001b[1;33m\u001b[0m\u001b[1;33m\u001b[0m\u001b[0m\n\u001b[1;32m--> 463\u001b[1;33m         rets = Parallel(\n\u001b[0m\u001b[0;32m    464\u001b[0m             \u001b[0mn_jobs\u001b[0m\u001b[1;33m=\u001b[0m\u001b[0mn_jobs\u001b[0m\u001b[1;33m,\u001b[0m\u001b[1;33m\u001b[0m\u001b[1;33m\u001b[0m\u001b[0m\n\u001b[0;32m    465\u001b[0m             \u001b[0mverbose\u001b[0m\u001b[1;33m=\u001b[0m\u001b[0mself\u001b[0m\u001b[1;33m.\u001b[0m\u001b[0mverbose\u001b[0m\u001b[1;33m,\u001b[0m\u001b[1;33m\u001b[0m\u001b[1;33m\u001b[0m\u001b[0m\n",
      "\u001b[1;32m~\\AppData\\Local\\Programs\\Python\\Python38\\lib\\site-packages\\joblib\\parallel.py\u001b[0m in \u001b[0;36m__call__\u001b[1;34m(self, iterable)\u001b[0m\n\u001b[0;32m   1040\u001b[0m \u001b[1;33m\u001b[0m\u001b[0m\n\u001b[0;32m   1041\u001b[0m             \u001b[1;32mwith\u001b[0m \u001b[0mself\u001b[0m\u001b[1;33m.\u001b[0m\u001b[0m_backend\u001b[0m\u001b[1;33m.\u001b[0m\u001b[0mretrieval_context\u001b[0m\u001b[1;33m(\u001b[0m\u001b[1;33m)\u001b[0m\u001b[1;33m:\u001b[0m\u001b[1;33m\u001b[0m\u001b[1;33m\u001b[0m\u001b[0m\n\u001b[1;32m-> 1042\u001b[1;33m                 \u001b[0mself\u001b[0m\u001b[1;33m.\u001b[0m\u001b[0mretrieve\u001b[0m\u001b[1;33m(\u001b[0m\u001b[1;33m)\u001b[0m\u001b[1;33m\u001b[0m\u001b[1;33m\u001b[0m\u001b[0m\n\u001b[0m\u001b[0;32m   1043\u001b[0m             \u001b[1;31m# Make sure that we get a last message telling us we are done\u001b[0m\u001b[1;33m\u001b[0m\u001b[1;33m\u001b[0m\u001b[1;33m\u001b[0m\u001b[0m\n\u001b[0;32m   1044\u001b[0m             \u001b[0melapsed_time\u001b[0m \u001b[1;33m=\u001b[0m \u001b[0mtime\u001b[0m\u001b[1;33m.\u001b[0m\u001b[0mtime\u001b[0m\u001b[1;33m(\u001b[0m\u001b[1;33m)\u001b[0m \u001b[1;33m-\u001b[0m \u001b[0mself\u001b[0m\u001b[1;33m.\u001b[0m\u001b[0m_start_time\u001b[0m\u001b[1;33m\u001b[0m\u001b[1;33m\u001b[0m\u001b[0m\n",
      "\u001b[1;32m~\\AppData\\Local\\Programs\\Python\\Python38\\lib\\site-packages\\joblib\\parallel.py\u001b[0m in \u001b[0;36mretrieve\u001b[1;34m(self)\u001b[0m\n\u001b[0;32m    919\u001b[0m             \u001b[1;32mtry\u001b[0m\u001b[1;33m:\u001b[0m\u001b[1;33m\u001b[0m\u001b[1;33m\u001b[0m\u001b[0m\n\u001b[0;32m    920\u001b[0m                 \u001b[1;32mif\u001b[0m \u001b[0mgetattr\u001b[0m\u001b[1;33m(\u001b[0m\u001b[0mself\u001b[0m\u001b[1;33m.\u001b[0m\u001b[0m_backend\u001b[0m\u001b[1;33m,\u001b[0m \u001b[1;34m'supports_timeout'\u001b[0m\u001b[1;33m,\u001b[0m \u001b[1;32mFalse\u001b[0m\u001b[1;33m)\u001b[0m\u001b[1;33m:\u001b[0m\u001b[1;33m\u001b[0m\u001b[1;33m\u001b[0m\u001b[0m\n\u001b[1;32m--> 921\u001b[1;33m                     \u001b[0mself\u001b[0m\u001b[1;33m.\u001b[0m\u001b[0m_output\u001b[0m\u001b[1;33m.\u001b[0m\u001b[0mextend\u001b[0m\u001b[1;33m(\u001b[0m\u001b[0mjob\u001b[0m\u001b[1;33m.\u001b[0m\u001b[0mget\u001b[0m\u001b[1;33m(\u001b[0m\u001b[0mtimeout\u001b[0m\u001b[1;33m=\u001b[0m\u001b[0mself\u001b[0m\u001b[1;33m.\u001b[0m\u001b[0mtimeout\u001b[0m\u001b[1;33m)\u001b[0m\u001b[1;33m)\u001b[0m\u001b[1;33m\u001b[0m\u001b[1;33m\u001b[0m\u001b[0m\n\u001b[0m\u001b[0;32m    922\u001b[0m                 \u001b[1;32melse\u001b[0m\u001b[1;33m:\u001b[0m\u001b[1;33m\u001b[0m\u001b[1;33m\u001b[0m\u001b[0m\n\u001b[0;32m    923\u001b[0m                     \u001b[0mself\u001b[0m\u001b[1;33m.\u001b[0m\u001b[0m_output\u001b[0m\u001b[1;33m.\u001b[0m\u001b[0mextend\u001b[0m\u001b[1;33m(\u001b[0m\u001b[0mjob\u001b[0m\u001b[1;33m.\u001b[0m\u001b[0mget\u001b[0m\u001b[1;33m(\u001b[0m\u001b[1;33m)\u001b[0m\u001b[1;33m)\u001b[0m\u001b[1;33m\u001b[0m\u001b[1;33m\u001b[0m\u001b[0m\n",
      "\u001b[1;32m~\\AppData\\Local\\Programs\\Python\\Python38\\lib\\multiprocessing\\pool.py\u001b[0m in \u001b[0;36mget\u001b[1;34m(self, timeout)\u001b[0m\n\u001b[0;32m    760\u001b[0m \u001b[1;33m\u001b[0m\u001b[0m\n\u001b[0;32m    761\u001b[0m     \u001b[1;32mdef\u001b[0m \u001b[0mget\u001b[0m\u001b[1;33m(\u001b[0m\u001b[0mself\u001b[0m\u001b[1;33m,\u001b[0m \u001b[0mtimeout\u001b[0m\u001b[1;33m=\u001b[0m\u001b[1;32mNone\u001b[0m\u001b[1;33m)\u001b[0m\u001b[1;33m:\u001b[0m\u001b[1;33m\u001b[0m\u001b[1;33m\u001b[0m\u001b[0m\n\u001b[1;32m--> 762\u001b[1;33m         \u001b[0mself\u001b[0m\u001b[1;33m.\u001b[0m\u001b[0mwait\u001b[0m\u001b[1;33m(\u001b[0m\u001b[0mtimeout\u001b[0m\u001b[1;33m)\u001b[0m\u001b[1;33m\u001b[0m\u001b[1;33m\u001b[0m\u001b[0m\n\u001b[0m\u001b[0;32m    763\u001b[0m         \u001b[1;32mif\u001b[0m \u001b[1;32mnot\u001b[0m \u001b[0mself\u001b[0m\u001b[1;33m.\u001b[0m\u001b[0mready\u001b[0m\u001b[1;33m(\u001b[0m\u001b[1;33m)\u001b[0m\u001b[1;33m:\u001b[0m\u001b[1;33m\u001b[0m\u001b[1;33m\u001b[0m\u001b[0m\n\u001b[0;32m    764\u001b[0m             \u001b[1;32mraise\u001b[0m \u001b[0mTimeoutError\u001b[0m\u001b[1;33m\u001b[0m\u001b[1;33m\u001b[0m\u001b[0m\n",
      "\u001b[1;32m~\\AppData\\Local\\Programs\\Python\\Python38\\lib\\multiprocessing\\pool.py\u001b[0m in \u001b[0;36mwait\u001b[1;34m(self, timeout)\u001b[0m\n\u001b[0;32m    757\u001b[0m \u001b[1;33m\u001b[0m\u001b[0m\n\u001b[0;32m    758\u001b[0m     \u001b[1;32mdef\u001b[0m \u001b[0mwait\u001b[0m\u001b[1;33m(\u001b[0m\u001b[0mself\u001b[0m\u001b[1;33m,\u001b[0m \u001b[0mtimeout\u001b[0m\u001b[1;33m=\u001b[0m\u001b[1;32mNone\u001b[0m\u001b[1;33m)\u001b[0m\u001b[1;33m:\u001b[0m\u001b[1;33m\u001b[0m\u001b[1;33m\u001b[0m\u001b[0m\n\u001b[1;32m--> 759\u001b[1;33m         \u001b[0mself\u001b[0m\u001b[1;33m.\u001b[0m\u001b[0m_event\u001b[0m\u001b[1;33m.\u001b[0m\u001b[0mwait\u001b[0m\u001b[1;33m(\u001b[0m\u001b[0mtimeout\u001b[0m\u001b[1;33m)\u001b[0m\u001b[1;33m\u001b[0m\u001b[1;33m\u001b[0m\u001b[0m\n\u001b[0m\u001b[0;32m    760\u001b[0m \u001b[1;33m\u001b[0m\u001b[0m\n\u001b[0;32m    761\u001b[0m     \u001b[1;32mdef\u001b[0m \u001b[0mget\u001b[0m\u001b[1;33m(\u001b[0m\u001b[0mself\u001b[0m\u001b[1;33m,\u001b[0m \u001b[0mtimeout\u001b[0m\u001b[1;33m=\u001b[0m\u001b[1;32mNone\u001b[0m\u001b[1;33m)\u001b[0m\u001b[1;33m:\u001b[0m\u001b[1;33m\u001b[0m\u001b[1;33m\u001b[0m\u001b[0m\n",
      "\u001b[1;32m~\\AppData\\Local\\Programs\\Python\\Python38\\lib\\threading.py\u001b[0m in \u001b[0;36mwait\u001b[1;34m(self, timeout)\u001b[0m\n\u001b[0;32m    556\u001b[0m             \u001b[0msignaled\u001b[0m \u001b[1;33m=\u001b[0m \u001b[0mself\u001b[0m\u001b[1;33m.\u001b[0m\u001b[0m_flag\u001b[0m\u001b[1;33m\u001b[0m\u001b[1;33m\u001b[0m\u001b[0m\n\u001b[0;32m    557\u001b[0m             \u001b[1;32mif\u001b[0m \u001b[1;32mnot\u001b[0m \u001b[0msignaled\u001b[0m\u001b[1;33m:\u001b[0m\u001b[1;33m\u001b[0m\u001b[1;33m\u001b[0m\u001b[0m\n\u001b[1;32m--> 558\u001b[1;33m                 \u001b[0msignaled\u001b[0m \u001b[1;33m=\u001b[0m \u001b[0mself\u001b[0m\u001b[1;33m.\u001b[0m\u001b[0m_cond\u001b[0m\u001b[1;33m.\u001b[0m\u001b[0mwait\u001b[0m\u001b[1;33m(\u001b[0m\u001b[0mtimeout\u001b[0m\u001b[1;33m)\u001b[0m\u001b[1;33m\u001b[0m\u001b[1;33m\u001b[0m\u001b[0m\n\u001b[0m\u001b[0;32m    559\u001b[0m             \u001b[1;32mreturn\u001b[0m \u001b[0msignaled\u001b[0m\u001b[1;33m\u001b[0m\u001b[1;33m\u001b[0m\u001b[0m\n\u001b[0;32m    560\u001b[0m \u001b[1;33m\u001b[0m\u001b[0m\n",
      "\u001b[1;32m~\\AppData\\Local\\Programs\\Python\\Python38\\lib\\threading.py\u001b[0m in \u001b[0;36mwait\u001b[1;34m(self, timeout)\u001b[0m\n\u001b[0;32m    300\u001b[0m         \u001b[1;32mtry\u001b[0m\u001b[1;33m:\u001b[0m    \u001b[1;31m# restore state no matter what (e.g., KeyboardInterrupt)\u001b[0m\u001b[1;33m\u001b[0m\u001b[1;33m\u001b[0m\u001b[0m\n\u001b[0;32m    301\u001b[0m             \u001b[1;32mif\u001b[0m \u001b[0mtimeout\u001b[0m \u001b[1;32mis\u001b[0m \u001b[1;32mNone\u001b[0m\u001b[1;33m:\u001b[0m\u001b[1;33m\u001b[0m\u001b[1;33m\u001b[0m\u001b[0m\n\u001b[1;32m--> 302\u001b[1;33m                 \u001b[0mwaiter\u001b[0m\u001b[1;33m.\u001b[0m\u001b[0macquire\u001b[0m\u001b[1;33m(\u001b[0m\u001b[1;33m)\u001b[0m\u001b[1;33m\u001b[0m\u001b[1;33m\u001b[0m\u001b[0m\n\u001b[0m\u001b[0;32m    303\u001b[0m                 \u001b[0mgotit\u001b[0m \u001b[1;33m=\u001b[0m \u001b[1;32mTrue\u001b[0m\u001b[1;33m\u001b[0m\u001b[1;33m\u001b[0m\u001b[0m\n\u001b[0;32m    304\u001b[0m             \u001b[1;32melse\u001b[0m\u001b[1;33m:\u001b[0m\u001b[1;33m\u001b[0m\u001b[1;33m\u001b[0m\u001b[0m\n",
      "\u001b[1;31mKeyboardInterrupt\u001b[0m: "
     ]
    }
   ],
   "source": [
    "from deepforest import CascadeForestClassifier\r\n",
    "import xgboost\r\n",
    "model = CascadeForestClassifier(n_jobs=-1,n_estimators=3,n_trees=200,max_depth=12,min_samples_leaf=5)\r\n",
    "model.fit(X_train, y_train.values)\r\n",
    "#.drop(columns='id').values\r\n"
   ]
  },
  {
   "cell_type": "code",
   "execution_count": 51,
   "metadata": {},
   "outputs": [
    {
     "name": "stdout",
     "output_type": "stream",
     "text": [
      "[2021-06-30 17:39:02.338] Start to evalute the model:\n",
      "[2021-06-30 17:39:02.533] Evaluating cascade layer = 0 \n",
      "[2021-06-30 17:39:08.454] Evaluating cascade layer = 1 \n",
      "[2021-06-30 17:39:15.166] Evaluating cascade layer = 2 \n",
      "[[0.03241831 0.01552918 0.01363079 ... 0.08837403 0.44762948 0.07355791]\n",
      " [0.04949125 0.03492403 0.03017911 ... 0.11277651 0.39063981 0.10431176]\n",
      " [0.04508268 0.0309021  0.02665711 ... 0.10677069 0.40151731 0.1005949 ]\n",
      " ...\n",
      " [0.03164271 0.01496197 0.01361309 ... 0.08706772 0.45339308 0.0732037 ]\n",
      " [0.053379   0.0416237  0.03651605 ... 0.10962274 0.3717686  0.11242556]\n",
      " [0.04954008 0.03550004 0.03049993 ... 0.11100419 0.39118595 0.10495191]]\n"
     ]
    }
   ],
   "source": [
    "y_pred = model.predict_proba(X_test.drop(columns='id').values)\r\n",
    "print(y_pred)"
   ]
  },
  {
   "cell_type": "code",
   "execution_count": 52,
   "metadata": {},
   "outputs": [
    {
     "name": "stdout",
     "output_type": "stream",
     "text": [
      "           id   Class_1   Class_2   Class_3   Class_4   Class_5   Class_6  \\\n",
      "0      200000  0.032418  0.015529  0.013631  0.010327  0.007936  0.310597   \n",
      "1      200001  0.049491  0.034924  0.030179  0.023217  0.017196  0.237265   \n",
      "2      200002  0.045083  0.030902  0.026657  0.019178  0.014172  0.255125   \n",
      "3      200003  0.051150  0.040708  0.034225  0.023814  0.020422  0.210330   \n",
      "4      200004  0.049142  0.032104  0.028636  0.019658  0.014985  0.249008   \n",
      "...       ...       ...       ...       ...       ...       ...       ...   \n",
      "99995  299995  0.036632  0.021581  0.018037  0.013943  0.009106  0.284440   \n",
      "99996  299996  0.036259  0.021672  0.017097  0.013305  0.009195  0.286139   \n",
      "99997  299997  0.031643  0.014962  0.013613  0.009839  0.007949  0.308330   \n",
      "99998  299998  0.053379  0.041624  0.036516  0.024284  0.018748  0.231633   \n",
      "99999  299999  0.049540  0.035500  0.030500  0.021394  0.016320  0.239604   \n",
      "\n",
      "        Class_7   Class_8   Class_9  \n",
      "0      0.088374  0.447629  0.073558  \n",
      "1      0.112777  0.390640  0.104312  \n",
      "2      0.106771  0.401517  0.100595  \n",
      "3      0.113746  0.394274  0.111331  \n",
      "4      0.105063  0.392354  0.109049  \n",
      "...         ...       ...       ...  \n",
      "99995  0.091212  0.440726  0.084325  \n",
      "99996  0.091715  0.440593  0.084025  \n",
      "99997  0.087068  0.453393  0.073204  \n",
      "99998  0.109623  0.371769  0.112426  \n",
      "99999  0.111004  0.391186  0.104952  \n",
      "\n",
      "[100000 rows x 10 columns]\n"
     ]
    }
   ],
   "source": [
    "out={}\r\n",
    "out['id']=X_test['id']\r\n",
    "df=pd.DataFrame(out)\r\n",
    "df2=pd.DataFrame(y_pred,columns=['Class_1','Class_2','Class_3','Class_4','Class_5','Class_6','Class_7','Class_8','Class_9'])\r\n",
    "#print(df2)\r\n",
    "result=pd.concat([df,df2],axis = 1)\r\n",
    "print(result)"
   ]
  },
  {
   "cell_type": "code",
   "execution_count": 35,
   "metadata": {},
   "outputs": [],
   "source": [
    "\r\n",
    "result.to_csv(\"f:/机器学习/kaggle/submission_0.csv\",index=False)"
   ]
  },
  {
   "cell_type": "markdown",
   "metadata": {},
   "source": [
    "# <center>第二个模型：随机森林模型</center>"
   ]
  },
  {
   "cell_type": "code",
   "execution_count": 47,
   "metadata": {},
   "outputs": [],
   "source": [
    "from sklearn.ensemble import RandomForestClassifier"
   ]
  },
  {
   "cell_type": "code",
   "execution_count": 48,
   "metadata": {},
   "outputs": [
    {
     "data": {
      "text/plain": [
       "RandomForestClassifier(n_jobs=2)"
      ]
     },
     "execution_count": 48,
     "metadata": {},
     "output_type": "execute_result"
    }
   ],
   "source": [
    "\r\n",
    "model_rf = RandomForestClassifier(n_jobs=2, n_estimators=100)\r\n",
    "#model_rf.fit(X_train.drop(columns='id').values, y_train.values)\r\n",
    "model_rf.fit(X_train, y_train.values)"
   ]
  },
  {
   "cell_type": "code",
   "execution_count": 49,
   "metadata": {},
   "outputs": [],
   "source": [
    "y_pred_rf = model_rf.predict_proba(pca.transform(X_test.drop(columns='id').values))"
   ]
  },
  {
   "cell_type": "code",
   "execution_count": 50,
   "metadata": {},
   "outputs": [
    {
     "name": "stdout",
     "output_type": "stream",
     "text": [
      "           id  Class_1   Class_2   Class_3  Class_4  Class_5   Class_6  \\\n",
      "0      200000     0.06  0.371667  0.235667     0.00     0.00  0.226667   \n",
      "1      200001     0.03  0.090000  0.060000     0.02     0.01  0.300000   \n",
      "2      200002     0.02  0.020000  0.000000     0.03     0.01  0.760000   \n",
      "3      200003     0.03  0.160000  0.070000     0.03     0.00  0.310000   \n",
      "4      200004     0.04  0.150000  0.060000     0.03     0.02  0.350000   \n",
      "...       ...      ...       ...       ...      ...      ...       ...   \n",
      "99995  299995     0.09  0.310000  0.200000     0.02     0.01  0.110000   \n",
      "99996  299996     0.05  0.250000  0.090000     0.02     0.02  0.190000   \n",
      "99997  299997     0.08  0.270000  0.180000     0.07     0.00  0.130000   \n",
      "99998  299998     0.03  0.050000  0.050000     0.02     0.02  0.290000   \n",
      "99999  299999     0.02  0.150000  0.040000     0.01     0.01  0.320000   \n",
      "\n",
      "       Class_7  Class_8  Class_9  \n",
      "0         0.01     0.02    0.076  \n",
      "1         0.05     0.28    0.160  \n",
      "2         0.02     0.11    0.030  \n",
      "3         0.03     0.28    0.090  \n",
      "4         0.08     0.14    0.130  \n",
      "...        ...      ...      ...  \n",
      "99995     0.03     0.10    0.130  \n",
      "99996     0.04     0.19    0.150  \n",
      "99997     0.03     0.11    0.130  \n",
      "99998     0.09     0.36    0.090  \n",
      "99999     0.08     0.18    0.190  \n",
      "\n",
      "[100000 rows x 10 columns]\n"
     ]
    }
   ],
   "source": [
    "out_rf={}\r\n",
    "out_rf['id']=X_test['id']\r\n",
    "df_rf=pd.DataFrame(out_rf)\r\n",
    "df2_rf=pd.DataFrame(y_pred_rf,columns=['Class_1','Class_2','Class_3','Class_4','Class_5','Class_6','Class_7','Class_8','Class_9'])\r\n",
    "#print(df2)\r\n",
    "result_rf=pd.concat([df_rf,df2_rf],axis = 1)\r\n",
    "print(result_rf)"
   ]
  },
  {
   "cell_type": "code",
   "execution_count": 51,
   "metadata": {},
   "outputs": [],
   "source": [
    "result_rf.to_csv(\"f:/机器学习/kaggle/submission_rf.csv\",index=False)"
   ]
  },
  {
   "cell_type": "markdown",
   "metadata": {},
   "source": [
    "## <center> 单独提交的成绩比DF21差很多</center>\r\n",
    "![randomforest](f:/机器学习/kaggle/rfalone.jpg)"
   ]
  },
  {
   "cell_type": "markdown",
   "metadata": {},
   "source": [
    "# <center>第三个模型：XGBOOST</center>"
   ]
  },
  {
   "cell_type": "markdown",
   "metadata": {},
   "source": [
    "## 调包"
   ]
  },
  {
   "cell_type": "code",
   "execution_count": 5,
   "metadata": {},
   "outputs": [],
   "source": [
    "from xgboost import XGBClassifier"
   ]
  },
  {
   "cell_type": "markdown",
   "metadata": {},
   "source": [
    "## 训练模型"
   ]
  },
  {
   "cell_type": "code",
   "execution_count": 52,
   "metadata": {},
   "outputs": [
    {
     "name": "stderr",
     "output_type": "stream",
     "text": [
      "C:\\Users\\王诗睿\\AppData\\Local\\Programs\\Python\\Python38\\lib\\site-packages\\xgboost\\sklearn.py:1146: UserWarning: The use of label encoder in XGBClassifier is deprecated and will be removed in a future release. To remove this warning, do the following: 1) Pass option use_label_encoder=False when constructing XGBClassifier object; and 2) Encode your labels (y) as integers starting with 0, i.e. 0, 1, 2, ..., [num_class - 1].\n",
      "  warnings.warn(label_encoder_deprecation_msg, UserWarning)\n"
     ]
    },
    {
     "name": "stdout",
     "output_type": "stream",
     "text": [
      "[[0.05675288 0.4249337  0.15678912 ... 0.01542367 0.04156385 0.12969825]\n",
      " [0.03152695 0.09978833 0.07856461 ... 0.0654236  0.27513596 0.1231351 ]\n",
      " [0.01384554 0.01046704 0.01290232 ... 0.02183015 0.10686731 0.03908109]\n",
      " ...\n",
      " [0.05284063 0.3240927  0.15186003 ... 0.02630306 0.06373379 0.12993288]\n",
      " [0.03748401 0.12308677 0.05059336 ... 0.06204379 0.35937983 0.17037001]\n",
      " [0.03493327 0.06069035 0.0780729  ... 0.06188824 0.28863567 0.14841767]]\n"
     ]
    }
   ],
   "source": [
    "#X_train.drop(columns='id').values, y_train.values X_test.drop(columns='id').values\r\n",
    "model_xgb = XGBClassifier(eval_metric='mlogloss')\r\n",
    "#print(y_train.values-1)\r\n",
    "model_xgb.fit(X_train,y_train.values)\r\n",
    "y_pred_xgb = model_xgb.predict_proba(pca.transform(X_test.drop(columns='id').values))\r\n",
    "print(y_pred_xgb)"
   ]
  },
  {
   "cell_type": "markdown",
   "metadata": {},
   "source": [
    "## 结果"
   ]
  },
  {
   "cell_type": "code",
   "execution_count": 53,
   "metadata": {},
   "outputs": [
    {
     "name": "stdout",
     "output_type": "stream",
     "text": [
      "           id   Class_1   Class_2   Class_3   Class_4   Class_5   Class_6  \\\n",
      "0      200000  0.056753  0.424934  0.156789  0.022784  0.009327  0.142727   \n",
      "1      200001  0.031527  0.099788  0.078565  0.016905  0.017504  0.292017   \n",
      "2      200002  0.013846  0.010467  0.012902  0.004138  0.007957  0.782912   \n",
      "3      200003  0.042245  0.101807  0.062264  0.030384  0.025927  0.250909   \n",
      "4      200004  0.029756  0.097880  0.104765  0.033432  0.008534  0.366349   \n",
      "...       ...       ...       ...       ...       ...       ...       ...   \n",
      "99995  299995  0.096795  0.320943  0.141071  0.032389  0.012533  0.096939   \n",
      "99996  299996  0.051672  0.219423  0.142223  0.033840  0.017350  0.201759   \n",
      "99997  299997  0.052841  0.324093  0.151860  0.037224  0.010551  0.203462   \n",
      "99998  299998  0.037484  0.123087  0.050593  0.024847  0.014452  0.157743   \n",
      "99999  299999  0.034933  0.060690  0.078073  0.020614  0.012782  0.293967   \n",
      "\n",
      "        Class_7   Class_8   Class_9  \n",
      "0      0.015424  0.041564  0.129698  \n",
      "1      0.065424  0.275136  0.123135  \n",
      "2      0.021830  0.106867  0.039081  \n",
      "3      0.162219  0.191031  0.133214  \n",
      "4      0.058459  0.180397  0.120428  \n",
      "...         ...       ...       ...  \n",
      "99995  0.040993  0.112261  0.146078  \n",
      "99996  0.047054  0.132147  0.154532  \n",
      "99997  0.026303  0.063734  0.129933  \n",
      "99998  0.062044  0.359380  0.170370  \n",
      "99999  0.061888  0.288636  0.148418  \n",
      "\n",
      "[100000 rows x 10 columns]\n"
     ]
    }
   ],
   "source": [
    "out_xgb={}\r\n",
    "out_xgb['id'] = X_test['id']\r\n",
    "df_xgb = pd.DataFrame(out_xgb)\r\n",
    "df2_xgb = pd.DataFrame(y_pred_xgb,columns=['Class_1','Class_2','Class_3','Class_4','Class_5','Class_6','Class_7','Class_8','Class_9'])\r\n",
    "#print(df2)\r\n",
    "result_xgb=pd.concat([df_xgb,df2_xgb],axis = 1)\r\n",
    "print(result_xgb)"
   ]
  },
  {
   "cell_type": "markdown",
   "metadata": {},
   "source": [
    "## 输出为csv"
   ]
  },
  {
   "cell_type": "code",
   "execution_count": 54,
   "metadata": {},
   "outputs": [],
   "source": [
    "result_xgb.to_csv(\"f:/机器学习/kaggle/submission_xgb.csv\",index=False)"
   ]
  },
  {
   "cell_type": "markdown",
   "metadata": {},
   "source": [
    "## 单个模型提交结果\r\n",
    "![xgboost](F:\\机器学习\\竞赛作业\\xgb.jpg)"
   ]
  },
  {
   "cell_type": "markdown",
   "metadata": {},
   "source": [
    "# <center>集成学习</center>\r\n",
    "## smart ensembling"
   ]
  },
  {
   "cell_type": "code",
   "execution_count": 55,
   "metadata": {},
   "outputs": [],
   "source": [
    "sub1 = pd.read_csv('f:/机器学习/kaggle/submission.csv')\r\n",
    "sub2 = pd.read_csv('f:/机器学习/kaggle/submission_rf.csv')\r\n",
    "sub3 = pd.read_csv('f:/机器学习/kaggle/submission_xgb.csv')"
   ]
  },
  {
   "cell_type": "code",
   "execution_count": 56,
   "metadata": {},
   "outputs": [],
   "source": [
    "def generation(main, support, coeff): \r\n",
    "    sub1  = support.copy()\r\n",
    "    sub1v = sub1.values    \r\n",
    "    \r\n",
    "    sub2  = main.copy() \r\n",
    "    sub2v = sub2.values\r\n",
    "       \r\n",
    "    imp  = main.copy()    \r\n",
    "    impv = imp.values  \r\n",
    "    NCLASS = 9\r\n",
    "    number = 0\r\n",
    "    \r\n",
    "    for i in range (len(main)):               \r\n",
    "        \r\n",
    "        row1 = sub1v[i,1:]\r\n",
    "        row2 = sub2v[i,1:]\r\n",
    "        row1_sort = np.sort(row1)\r\n",
    "        row2_sort = np.sort(row2) \r\n",
    "        \r\n",
    "        row = (row2 * coeff) + (row1 * (1.0 - coeff))\r\n",
    "        row_sort = np.sort(row)        \r\n",
    "        \r\n",
    "        for j in range (NCLASS):             \r\n",
    "            if ((row2[j] == row2_sort[8]) and (row1[j] != row1_sort[8])):                                \r\n",
    "                row = row2 \r\n",
    "                number = number + 1            \r\n",
    "#               print(number, i)\r\n",
    "        \r\n",
    "        impv[i, 1:] = row\r\n",
    "    \r\n",
    "    imp.iloc[:, 1:] = impv[:, 1:]\r\n",
    "    print(f'Number of rows unchanged: {number}')\r\n",
    "    print(30 * '=')                                        \r\n",
    "    return imp"
   ]
  },
  {
   "cell_type": "code",
   "execution_count": 57,
   "metadata": {},
   "outputs": [
    {
     "name": "stdout",
     "output_type": "stream",
     "text": [
      "Number of rows unchanged: 23446\n",
      "==============================\n"
     ]
    },
    {
     "data": {
      "text/html": [
       "<div>\n",
       "<style scoped>\n",
       "    .dataframe tbody tr th:only-of-type {\n",
       "        vertical-align: middle;\n",
       "    }\n",
       "\n",
       "    .dataframe tbody tr th {\n",
       "        vertical-align: top;\n",
       "    }\n",
       "\n",
       "    .dataframe thead th {\n",
       "        text-align: right;\n",
       "    }\n",
       "</style>\n",
       "<table border=\"1\" class=\"dataframe\">\n",
       "  <thead>\n",
       "    <tr style=\"text-align: right;\">\n",
       "      <th></th>\n",
       "      <th>id</th>\n",
       "      <th>Class_1</th>\n",
       "      <th>Class_2</th>\n",
       "      <th>Class_3</th>\n",
       "      <th>Class_4</th>\n",
       "      <th>Class_5</th>\n",
       "      <th>Class_6</th>\n",
       "      <th>Class_7</th>\n",
       "      <th>Class_8</th>\n",
       "      <th>Class_9</th>\n",
       "    </tr>\n",
       "  </thead>\n",
       "  <tbody>\n",
       "    <tr>\n",
       "      <th>0</th>\n",
       "      <td>200000</td>\n",
       "      <td>0.0765</td>\n",
       "      <td>0.363167</td>\n",
       "      <td>0.188767</td>\n",
       "      <td>0.0060</td>\n",
       "      <td>0.0105</td>\n",
       "      <td>0.227167</td>\n",
       "      <td>0.0145</td>\n",
       "      <td>0.0155</td>\n",
       "      <td>0.0979</td>\n",
       "    </tr>\n",
       "    <tr>\n",
       "      <th>1</th>\n",
       "      <td>200001</td>\n",
       "      <td>0.0300</td>\n",
       "      <td>0.090000</td>\n",
       "      <td>0.060000</td>\n",
       "      <td>0.0200</td>\n",
       "      <td>0.0100</td>\n",
       "      <td>0.300000</td>\n",
       "      <td>0.0500</td>\n",
       "      <td>0.2800</td>\n",
       "      <td>0.1600</td>\n",
       "    </tr>\n",
       "    <tr>\n",
       "      <th>2</th>\n",
       "      <td>200002</td>\n",
       "      <td>0.0170</td>\n",
       "      <td>0.033500</td>\n",
       "      <td>0.003000</td>\n",
       "      <td>0.0165</td>\n",
       "      <td>0.0055</td>\n",
       "      <td>0.766000</td>\n",
       "      <td>0.0185</td>\n",
       "      <td>0.1025</td>\n",
       "      <td>0.0375</td>\n",
       "    </tr>\n",
       "    <tr>\n",
       "      <th>3</th>\n",
       "      <td>200003</td>\n",
       "      <td>0.0300</td>\n",
       "      <td>0.124000</td>\n",
       "      <td>0.068500</td>\n",
       "      <td>0.0375</td>\n",
       "      <td>0.0150</td>\n",
       "      <td>0.329500</td>\n",
       "      <td>0.0390</td>\n",
       "      <td>0.2410</td>\n",
       "      <td>0.1155</td>\n",
       "    </tr>\n",
       "    <tr>\n",
       "      <th>4</th>\n",
       "      <td>200004</td>\n",
       "      <td>0.0385</td>\n",
       "      <td>0.111000</td>\n",
       "      <td>0.067500</td>\n",
       "      <td>0.0315</td>\n",
       "      <td>0.0185</td>\n",
       "      <td>0.339500</td>\n",
       "      <td>0.0725</td>\n",
       "      <td>0.1835</td>\n",
       "      <td>0.1375</td>\n",
       "    </tr>\n",
       "    <tr>\n",
       "      <th>...</th>\n",
       "      <td>...</td>\n",
       "      <td>...</td>\n",
       "      <td>...</td>\n",
       "      <td>...</td>\n",
       "      <td>...</td>\n",
       "      <td>...</td>\n",
       "      <td>...</td>\n",
       "      <td>...</td>\n",
       "      <td>...</td>\n",
       "      <td>...</td>\n",
       "    </tr>\n",
       "    <tr>\n",
       "      <th>99995</th>\n",
       "      <td>299995</td>\n",
       "      <td>0.0600</td>\n",
       "      <td>0.329500</td>\n",
       "      <td>0.179000</td>\n",
       "      <td>0.0335</td>\n",
       "      <td>0.0160</td>\n",
       "      <td>0.128000</td>\n",
       "      <td>0.0315</td>\n",
       "      <td>0.0910</td>\n",
       "      <td>0.1315</td>\n",
       "    </tr>\n",
       "    <tr>\n",
       "      <th>99996</th>\n",
       "      <td>299996</td>\n",
       "      <td>0.0500</td>\n",
       "      <td>0.262000</td>\n",
       "      <td>0.108000</td>\n",
       "      <td>0.0230</td>\n",
       "      <td>0.0215</td>\n",
       "      <td>0.170500</td>\n",
       "      <td>0.0475</td>\n",
       "      <td>0.1840</td>\n",
       "      <td>0.1335</td>\n",
       "    </tr>\n",
       "    <tr>\n",
       "      <th>99997</th>\n",
       "      <td>299997</td>\n",
       "      <td>0.0485</td>\n",
       "      <td>0.294000</td>\n",
       "      <td>0.187500</td>\n",
       "      <td>0.0475</td>\n",
       "      <td>0.0015</td>\n",
       "      <td>0.151000</td>\n",
       "      <td>0.0285</td>\n",
       "      <td>0.0965</td>\n",
       "      <td>0.1450</td>\n",
       "    </tr>\n",
       "    <tr>\n",
       "      <th>99998</th>\n",
       "      <td>299998</td>\n",
       "      <td>0.0390</td>\n",
       "      <td>0.059000</td>\n",
       "      <td>0.081500</td>\n",
       "      <td>0.0215</td>\n",
       "      <td>0.0170</td>\n",
       "      <td>0.272000</td>\n",
       "      <td>0.0795</td>\n",
       "      <td>0.3225</td>\n",
       "      <td>0.1080</td>\n",
       "    </tr>\n",
       "    <tr>\n",
       "      <th>99999</th>\n",
       "      <td>299999</td>\n",
       "      <td>0.0395</td>\n",
       "      <td>0.109500</td>\n",
       "      <td>0.058000</td>\n",
       "      <td>0.0205</td>\n",
       "      <td>0.0100</td>\n",
       "      <td>0.291500</td>\n",
       "      <td>0.0875</td>\n",
       "      <td>0.2190</td>\n",
       "      <td>0.1645</td>\n",
       "    </tr>\n",
       "  </tbody>\n",
       "</table>\n",
       "<p>100000 rows × 10 columns</p>\n",
       "</div>"
      ],
      "text/plain": [
       "           id  Class_1   Class_2   Class_3  Class_4  Class_5   Class_6  \\\n",
       "0      200000   0.0765  0.363167  0.188767   0.0060   0.0105  0.227167   \n",
       "1      200001   0.0300  0.090000  0.060000   0.0200   0.0100  0.300000   \n",
       "2      200002   0.0170  0.033500  0.003000   0.0165   0.0055  0.766000   \n",
       "3      200003   0.0300  0.124000  0.068500   0.0375   0.0150  0.329500   \n",
       "4      200004   0.0385  0.111000  0.067500   0.0315   0.0185  0.339500   \n",
       "...       ...      ...       ...       ...      ...      ...       ...   \n",
       "99995  299995   0.0600  0.329500  0.179000   0.0335   0.0160  0.128000   \n",
       "99996  299996   0.0500  0.262000  0.108000   0.0230   0.0215  0.170500   \n",
       "99997  299997   0.0485  0.294000  0.187500   0.0475   0.0015  0.151000   \n",
       "99998  299998   0.0390  0.059000  0.081500   0.0215   0.0170  0.272000   \n",
       "99999  299999   0.0395  0.109500  0.058000   0.0205   0.0100  0.291500   \n",
       "\n",
       "       Class_7  Class_8  Class_9  \n",
       "0       0.0145   0.0155   0.0979  \n",
       "1       0.0500   0.2800   0.1600  \n",
       "2       0.0185   0.1025   0.0375  \n",
       "3       0.0390   0.2410   0.1155  \n",
       "4       0.0725   0.1835   0.1375  \n",
       "...        ...      ...      ...  \n",
       "99995   0.0315   0.0910   0.1315  \n",
       "99996   0.0475   0.1840   0.1335  \n",
       "99997   0.0285   0.0965   0.1450  \n",
       "99998   0.0795   0.3225   0.1080  \n",
       "99999   0.0875   0.2190   0.1645  \n",
       "\n",
       "[100000 rows x 10 columns]"
      ]
     },
     "metadata": {},
     "output_type": "display_data"
    },
    {
     "data": {
      "text/html": [
       "<div>\n",
       "<style scoped>\n",
       "    .dataframe tbody tr th:only-of-type {\n",
       "        vertical-align: middle;\n",
       "    }\n",
       "\n",
       "    .dataframe tbody tr th {\n",
       "        vertical-align: top;\n",
       "    }\n",
       "\n",
       "    .dataframe thead th {\n",
       "        text-align: right;\n",
       "    }\n",
       "</style>\n",
       "<table border=\"1\" class=\"dataframe\">\n",
       "  <thead>\n",
       "    <tr style=\"text-align: right;\">\n",
       "      <th></th>\n",
       "      <th>count</th>\n",
       "      <th>mean</th>\n",
       "      <th>std</th>\n",
       "      <th>min</th>\n",
       "      <th>25%</th>\n",
       "      <th>50%</th>\n",
       "      <th>75%</th>\n",
       "      <th>max</th>\n",
       "    </tr>\n",
       "  </thead>\n",
       "  <tbody>\n",
       "    <tr>\n",
       "      <th>id</th>\n",
       "      <td>100000.0</td>\n",
       "      <td>249999.500000</td>\n",
       "      <td>28867.657797</td>\n",
       "      <td>200000.0</td>\n",
       "      <td>224999.7500</td>\n",
       "      <td>249999.5000</td>\n",
       "      <td>274999.2500</td>\n",
       "      <td>299999.000000</td>\n",
       "    </tr>\n",
       "    <tr>\n",
       "      <th>Class_1</th>\n",
       "      <td>100000.0</td>\n",
       "      <td>0.047392</td>\n",
       "      <td>0.020317</td>\n",
       "      <td>0.0</td>\n",
       "      <td>0.0365</td>\n",
       "      <td>0.0465</td>\n",
       "      <td>0.0575</td>\n",
       "      <td>0.775333</td>\n",
       "    </tr>\n",
       "    <tr>\n",
       "      <th>Class_2</th>\n",
       "      <td>100000.0</td>\n",
       "      <td>0.121580</td>\n",
       "      <td>0.100982</td>\n",
       "      <td>0.0</td>\n",
       "      <td>0.0580</td>\n",
       "      <td>0.0825</td>\n",
       "      <td>0.1500</td>\n",
       "      <td>0.841000</td>\n",
       "    </tr>\n",
       "    <tr>\n",
       "      <th>Class_3</th>\n",
       "      <td>100000.0</td>\n",
       "      <td>0.076118</td>\n",
       "      <td>0.045336</td>\n",
       "      <td>0.0</td>\n",
       "      <td>0.0445</td>\n",
       "      <td>0.0630</td>\n",
       "      <td>0.1000</td>\n",
       "      <td>0.770000</td>\n",
       "    </tr>\n",
       "    <tr>\n",
       "      <th>Class_4</th>\n",
       "      <td>100000.0</td>\n",
       "      <td>0.024493</td>\n",
       "      <td>0.012905</td>\n",
       "      <td>0.0</td>\n",
       "      <td>0.0170</td>\n",
       "      <td>0.0230</td>\n",
       "      <td>0.0305</td>\n",
       "      <td>0.600000</td>\n",
       "    </tr>\n",
       "    <tr>\n",
       "      <th>Class_5</th>\n",
       "      <td>100000.0</td>\n",
       "      <td>0.015994</td>\n",
       "      <td>0.010038</td>\n",
       "      <td>0.0</td>\n",
       "      <td>0.0100</td>\n",
       "      <td>0.0150</td>\n",
       "      <td>0.0205</td>\n",
       "      <td>0.620000</td>\n",
       "    </tr>\n",
       "    <tr>\n",
       "      <th>Class_6</th>\n",
       "      <td>100000.0</td>\n",
       "      <td>0.257118</td>\n",
       "      <td>0.133970</td>\n",
       "      <td>0.0</td>\n",
       "      <td>0.1800</td>\n",
       "      <td>0.2340</td>\n",
       "      <td>0.3000</td>\n",
       "      <td>0.997000</td>\n",
       "    </tr>\n",
       "    <tr>\n",
       "      <th>Class_7</th>\n",
       "      <td>100000.0</td>\n",
       "      <td>0.075218</td>\n",
       "      <td>0.030192</td>\n",
       "      <td>0.0</td>\n",
       "      <td>0.0545</td>\n",
       "      <td>0.0770</td>\n",
       "      <td>0.0960</td>\n",
       "      <td>0.640000</td>\n",
       "    </tr>\n",
       "    <tr>\n",
       "      <th>Class_8</th>\n",
       "      <td>100000.0</td>\n",
       "      <td>0.253052</td>\n",
       "      <td>0.093955</td>\n",
       "      <td>0.0</td>\n",
       "      <td>0.1900</td>\n",
       "      <td>0.2710</td>\n",
       "      <td>0.3280</td>\n",
       "      <td>0.620000</td>\n",
       "    </tr>\n",
       "    <tr>\n",
       "      <th>Class_9</th>\n",
       "      <td>100000.0</td>\n",
       "      <td>0.129034</td>\n",
       "      <td>0.038373</td>\n",
       "      <td>0.0</td>\n",
       "      <td>0.1080</td>\n",
       "      <td>0.1300</td>\n",
       "      <td>0.1500</td>\n",
       "      <td>0.692500</td>\n",
       "    </tr>\n",
       "  </tbody>\n",
       "</table>\n",
       "</div>"
      ],
      "text/plain": [
       "            count           mean           std       min          25%  \\\n",
       "id       100000.0  249999.500000  28867.657797  200000.0  224999.7500   \n",
       "Class_1  100000.0       0.047392      0.020317       0.0       0.0365   \n",
       "Class_2  100000.0       0.121580      0.100982       0.0       0.0580   \n",
       "Class_3  100000.0       0.076118      0.045336       0.0       0.0445   \n",
       "Class_4  100000.0       0.024493      0.012905       0.0       0.0170   \n",
       "Class_5  100000.0       0.015994      0.010038       0.0       0.0100   \n",
       "Class_6  100000.0       0.257118      0.133970       0.0       0.1800   \n",
       "Class_7  100000.0       0.075218      0.030192       0.0       0.0545   \n",
       "Class_8  100000.0       0.253052      0.093955       0.0       0.1900   \n",
       "Class_9  100000.0       0.129034      0.038373       0.0       0.1080   \n",
       "\n",
       "                 50%          75%            max  \n",
       "id       249999.5000  274999.2500  299999.000000  \n",
       "Class_1       0.0465       0.0575       0.775333  \n",
       "Class_2       0.0825       0.1500       0.841000  \n",
       "Class_3       0.0630       0.1000       0.770000  \n",
       "Class_4       0.0230       0.0305       0.600000  \n",
       "Class_5       0.0150       0.0205       0.620000  \n",
       "Class_6       0.2340       0.3000       0.997000  \n",
       "Class_7       0.0770       0.0960       0.640000  \n",
       "Class_8       0.2710       0.3280       0.620000  \n",
       "Class_9       0.1300       0.1500       0.692500  "
      ]
     },
     "metadata": {},
     "output_type": "display_data"
    }
   ],
   "source": [
    "sub = generation(sub2, sub1, 0.4)\r\n",
    "sub_ens = sub\r\n",
    "display(sub_ens, sub_ens.describe().transpose())\r\n",
    "sub_ens.to_csv('f:/机器学习/kaggle/sub.csv',index=False)"
   ]
  },
  {
   "cell_type": "code",
   "execution_count": 37,
   "metadata": {},
   "outputs": [
    {
     "name": "stdout",
     "output_type": "stream",
     "text": [
      "           id   Class_1   Class_2   Class_3   Class_4   Class_5   Class_6  \\\n",
      "0      200000  0.047034  0.411369  0.162026  0.022776  0.012034  0.171408   \n",
      "1      200001  0.033635  0.080075  0.079869  0.017739  0.015376  0.287785   \n",
      "2      200002  0.029127  0.035474  0.022258  0.014908  0.005350  0.684857   \n",
      "3      200003  0.043545  0.101202  0.099313  0.040998  0.025004  0.217595   \n",
      "4      200004  0.036638  0.092919  0.080417  0.029078  0.015966  0.299173   \n",
      "...       ...       ...       ...       ...       ...       ...       ...   \n",
      "99995  299995  0.067131  0.400316  0.132764  0.023619  0.015677  0.104361   \n",
      "99996  299996  0.055936  0.259947  0.115101  0.024950  0.015372  0.190515   \n",
      "99997  299997  0.089366  0.234118  0.139148  0.028179  0.011982  0.157490   \n",
      "99998  299998  0.031550  0.023405  0.020053  0.010994  0.013503  0.389009   \n",
      "99999  299999  0.048186  0.075668  0.081103  0.028527  0.024223  0.290706   \n",
      "\n",
      "        Class_7   Class_8   Class_9  \n",
      "0      0.019530  0.046037  0.107786  \n",
      "1      0.081349  0.289014  0.115158  \n",
      "2      0.030508  0.113979  0.063539  \n",
      "3      0.068602  0.196125  0.207614  \n",
      "4      0.062658  0.231507  0.151644  \n",
      "...         ...       ...       ...  \n",
      "99995  0.035185  0.080999  0.139946  \n",
      "99996  0.045334  0.143302  0.149544  \n",
      "99997  0.049325  0.132728  0.157664  \n",
      "99998  0.084174  0.359971  0.067340  \n",
      "99999  0.073438  0.228928  0.149222  \n",
      "\n",
      "[100000 rows x 10 columns]\n"
     ]
    }
   ],
   "source": [
    "#resemble_0 = 0.1 * result.loc[:,'Class_1':'Class_9'] + 0.1 * result_rf.loc[:,'Class_1':'Class_9'] + 0.8 * result_xgb.loc[:,'Class_1':'Class_9'] \r\n",
    "#print(resemble_0)\r\n",
    "#resemble_1={}\r\n",
    "#resemble_1['id']=X_test['id']\r\n",
    "#resemble_2=pd.DataFrame(resemble_1)\r\n",
    "#resemble=pd.concat([resemble_2,resemble_0],axis=1)\r\n",
    "#print(resemble)"
   ]
  },
  {
   "cell_type": "code",
   "execution_count": 16,
   "metadata": {},
   "outputs": [],
   "source": [
    "resemble.to_csv(\"f:/机器学习/kaggle/submission_rem.csv\",index=False)"
   ]
  },
  {
   "cell_type": "code",
   "execution_count": 77,
   "metadata": {},
   "outputs": [
    {
     "data": {
      "text/html": [
       "<div>\n",
       "<style scoped>\n",
       "    .dataframe tbody tr th:only-of-type {\n",
       "        vertical-align: middle;\n",
       "    }\n",
       "\n",
       "    .dataframe tbody tr th {\n",
       "        vertical-align: top;\n",
       "    }\n",
       "\n",
       "    .dataframe thead th {\n",
       "        text-align: right;\n",
       "    }\n",
       "</style>\n",
       "<table border=\"1\" class=\"dataframe\">\n",
       "  <thead>\n",
       "    <tr style=\"text-align: right;\">\n",
       "      <th></th>\n",
       "      <th>id</th>\n",
       "      <th>Class_1</th>\n",
       "      <th>Class_2</th>\n",
       "      <th>Class_3</th>\n",
       "      <th>Class_4</th>\n",
       "      <th>Class_5</th>\n",
       "      <th>Class_6</th>\n",
       "      <th>Class_7</th>\n",
       "      <th>Class_8</th>\n",
       "      <th>Class_9</th>\n",
       "    </tr>\n",
       "  </thead>\n",
       "  <tbody>\n",
       "    <tr>\n",
       "      <th>0</th>\n",
       "      <td>200000</td>\n",
       "      <td>0.074441</td>\n",
       "      <td>0.383833</td>\n",
       "      <td>0.161138</td>\n",
       "      <td>0.014358</td>\n",
       "      <td>0.013519</td>\n",
       "      <td>0.195245</td>\n",
       "      <td>0.016336</td>\n",
       "      <td>0.023919</td>\n",
       "      <td>0.117210</td>\n",
       "    </tr>\n",
       "    <tr>\n",
       "      <th>1</th>\n",
       "      <td>200001</td>\n",
       "      <td>0.037705</td>\n",
       "      <td>0.085170</td>\n",
       "      <td>0.089855</td>\n",
       "      <td>0.021674</td>\n",
       "      <td>0.015701</td>\n",
       "      <td>0.269891</td>\n",
       "      <td>0.070111</td>\n",
       "      <td>0.269602</td>\n",
       "      <td>0.140291</td>\n",
       "    </tr>\n",
       "    <tr>\n",
       "      <th>2</th>\n",
       "      <td>200002</td>\n",
       "      <td>0.014811</td>\n",
       "      <td>0.029202</td>\n",
       "      <td>0.007753</td>\n",
       "      <td>0.007347</td>\n",
       "      <td>0.004949</td>\n",
       "      <td>0.774406</td>\n",
       "      <td>0.019270</td>\n",
       "      <td>0.101685</td>\n",
       "      <td>0.040576</td>\n",
       "    </tr>\n",
       "    <tr>\n",
       "      <th>3</th>\n",
       "      <td>200003</td>\n",
       "      <td>0.034653</td>\n",
       "      <td>0.103687</td>\n",
       "      <td>0.065635</td>\n",
       "      <td>0.037271</td>\n",
       "      <td>0.024102</td>\n",
       "      <td>0.306070</td>\n",
       "      <td>0.088793</td>\n",
       "      <td>0.209142</td>\n",
       "      <td>0.130646</td>\n",
       "    </tr>\n",
       "    <tr>\n",
       "      <th>4</th>\n",
       "      <td>200004</td>\n",
       "      <td>0.034682</td>\n",
       "      <td>0.093144</td>\n",
       "      <td>0.084136</td>\n",
       "      <td>0.032729</td>\n",
       "      <td>0.014218</td>\n",
       "      <td>0.346238</td>\n",
       "      <td>0.064690</td>\n",
       "      <td>0.196676</td>\n",
       "      <td>0.133488</td>\n",
       "    </tr>\n",
       "  </tbody>\n",
       "</table>\n",
       "</div>"
      ],
      "text/plain": [
       "       id   Class_1   Class_2   Class_3   Class_4   Class_5   Class_6  \\\n",
       "0  200000  0.074441  0.383833  0.161138  0.014358  0.013519  0.195245   \n",
       "1  200001  0.037705  0.085170  0.089855  0.021674  0.015701  0.269891   \n",
       "2  200002  0.014811  0.029202  0.007753  0.007347  0.004949  0.774406   \n",
       "3  200003  0.034653  0.103687  0.065635  0.037271  0.024102  0.306070   \n",
       "4  200004  0.034682  0.093144  0.084136  0.032729  0.014218  0.346238   \n",
       "\n",
       "    Class_7   Class_8   Class_9  \n",
       "0  0.016336  0.023919  0.117210  \n",
       "1  0.070111  0.269602  0.140291  \n",
       "2  0.019270  0.101685  0.040576  \n",
       "3  0.088793  0.209142  0.130646  \n",
       "4  0.064690  0.196676  0.133488  "
      ]
     },
     "execution_count": 77,
     "metadata": {},
     "output_type": "execute_result"
    }
   ],
   "source": [
    "blend = sub1.copy()\r\n",
    "columns = sub1.columns[1:]\r\n",
    "blend[columns] = 0.95*0.6*sub1[columns] + 0.95*0.4*sub3[columns]+0.05*sub2[columns]\r\n",
    "blend.to_csv('f:/机器学习/kaggle/sub_blend.csv', index=False)\r\n",
    "blend.head()\r\n"
   ]
  }
 ],
 "metadata": {
  "interpreter": {
   "hash": "b480311ff9938979f06f2f2ae4c28e6eb82d350e83850148f82937efd5d9dfc7"
  },
  "kernelspec": {
   "display_name": "Python 3.8.1 64-bit",
   "name": "python3"
  },
  "language_info": {
   "name": "python",
   "version": ""
  },
  "orig_nbformat": 4
 },
 "nbformat": 4,
 "nbformat_minor": 2
}